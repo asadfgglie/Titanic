{
 "cells": [
  {
   "cell_type": "code",
   "execution_count": 1,
   "source": [
    "import numpy as np\n",
    "import matplotlib.pyplot as plt\n",
    "import pandas as pd"
   ],
   "outputs": [],
   "metadata": {}
  },
  {
   "cell_type": "code",
   "execution_count": 2,
   "source": [
    "PATH = \"/mnt/e/program/AI/Kaggle/Titanic\"\n",
    "df_train = pd.read_csv(PATH + \"/data/train.csv\")\n",
    "df_test = pd.read_csv(PATH + \"/data/test.csv\")"
   ],
   "outputs": [],
   "metadata": {}
  },
  {
   "cell_type": "code",
   "execution_count": 3,
   "source": [
    "print(\"Train:\")\n",
    "print((df_train.isna().sum())[df_train.isna().sum()>0])\n",
    "print(\"------------------\")\n",
    "print(\"Test:\")\n",
    "print((df_test.isna().sum())[df_test.isna().sum()>0])\n",
    "feature_useless = ['Name', 'Ticket']\n",
    "feature_with_NaN_list = list( dict( (df_train.isna().sum())[ df_train.isna().sum()>0 ] + (df_test.isna().sum())[ df_test.isna().sum()>0 ] ).keys() )"
   ],
   "outputs": [
    {
     "output_type": "stream",
     "name": "stdout",
     "text": [
      "Train:\n",
      "Age         177\n",
      "Cabin       687\n",
      "Embarked      2\n",
      "dtype: int64\n",
      "------------------\n",
      "Test:\n",
      "Age       86\n",
      "Fare       1\n",
      "Cabin    327\n",
      "dtype: int64\n"
     ]
    }
   ],
   "metadata": {}
  },
  {
   "cell_type": "code",
   "execution_count": 19,
   "source": [
    "train = df_train.drop(feature_with_NaN_list + feature_useless, axis=1)\n",
    "test = df_test.drop(feature_with_NaN_list + feature_useless, axis=1)"
   ],
   "outputs": [],
   "metadata": {}
  },
  {
   "cell_type": "code",
   "execution_count": 21,
   "source": [
    "train[train['Sex'] == 'male'] = 0\n",
    "train[train['Sex'] == 'female'] = 1\n",
    "test[test['Sex'] == 'male'] = 0\n",
    "test[test['Sex'] == 'female'] = 1"
   ],
   "outputs": [],
   "metadata": {}
  },
  {
   "cell_type": "code",
   "execution_count": 32,
   "source": [
    "from sklearn.model_selection import train_test_split\n",
    "from sklearn.neighbors import KNeighborsClassifier"
   ],
   "outputs": [],
   "metadata": {}
  },
  {
   "cell_type": "code",
   "execution_count": 24,
   "source": [
    "onehot_list = [\"Pclass\", \"Sex\"]"
   ],
   "outputs": [],
   "metadata": {}
  },
  {
   "cell_type": "code",
   "execution_count": 25,
   "source": [
    "train_onehot = pd.get_dummies(train, columns=onehot_list, prefix=onehot_list, prefix_sep='_')\n",
    "test_onehot = pd.get_dummies(test, columns=onehot_list, prefix=onehot_list, prefix_sep='_')"
   ],
   "outputs": [],
   "metadata": {}
  },
  {
   "cell_type": "code",
   "execution_count": 26,
   "source": [
    "train_onehot_X = train_onehot.drop(\"Survived\", axis=1)\n",
    "train_onehot_Y = train_onehot[\"Survived\"]"
   ],
   "outputs": [],
   "metadata": {}
  },
  {
   "cell_type": "code",
   "execution_count": 27,
   "source": [
    "X_train, X_test, Y_train, Y_test = train_test_split(train_onehot_X, train_onehot_Y, train_size=0.8)"
   ],
   "outputs": [],
   "metadata": {}
  },
  {
   "cell_type": "code",
   "execution_count": 34,
   "source": [
    "from sklearn.metrics import accuracy_score\n",
    "k_scores = []\n",
    "for k in range(1, 100):\n",
    "    knn = KNeighborsClassifier(n_neighbors=k)\n",
    "    knn.fit(X_train, Y_train)\n",
    "    prediction = knn.predict(X_test)\n",
    "    prediction_score = accuracy_score(Y_test, prediction)\n",
    "    k_scores.append(prediction_score)\n",
    "    print(f\"Score: {prediction_score}\")\n",
    "print(k_scores.index(np.array(k_scores).max()) + 1)\n",
    "k_score = k_scores.index(np.array(k_scores).max()) + 1"
   ],
   "outputs": [
    {
     "output_type": "stream",
     "name": "stdout",
     "text": [
      "Score: 1.0\n",
      "Score: 1.0\n",
      "Score: 1.0\n",
      "Score: 1.0\n",
      "Score: 1.0\n",
      "Score: 1.0\n",
      "Score: 1.0\n",
      "Score: 1.0\n",
      "Score: 1.0\n",
      "Score: 1.0\n",
      "Score: 1.0\n",
      "Score: 1.0\n",
      "Score: 1.0\n",
      "Score: 1.0\n",
      "Score: 1.0\n",
      "Score: 1.0\n",
      "Score: 1.0\n",
      "Score: 1.0\n",
      "Score: 1.0\n",
      "Score: 1.0\n",
      "Score: 1.0\n",
      "Score: 1.0\n",
      "Score: 1.0\n",
      "Score: 1.0\n",
      "Score: 1.0\n",
      "Score: 1.0\n",
      "Score: 1.0\n",
      "Score: 1.0\n",
      "Score: 1.0\n",
      "Score: 1.0\n",
      "Score: 1.0\n",
      "Score: 1.0\n",
      "Score: 1.0\n",
      "Score: 1.0\n",
      "Score: 1.0\n",
      "Score: 1.0\n",
      "Score: 1.0\n",
      "Score: 1.0\n",
      "Score: 1.0\n",
      "Score: 1.0\n",
      "Score: 1.0\n",
      "Score: 1.0\n",
      "Score: 1.0\n",
      "Score: 1.0\n",
      "Score: 1.0\n",
      "Score: 1.0\n",
      "Score: 1.0\n",
      "Score: 1.0\n",
      "Score: 1.0\n",
      "Score: 1.0\n",
      "Score: 1.0\n",
      "Score: 1.0\n",
      "Score: 1.0\n",
      "Score: 1.0\n",
      "Score: 1.0\n",
      "Score: 1.0\n",
      "Score: 1.0\n",
      "Score: 1.0\n",
      "Score: 1.0\n",
      "Score: 1.0\n",
      "Score: 1.0\n",
      "Score: 1.0\n",
      "Score: 1.0\n",
      "Score: 1.0\n",
      "Score: 1.0\n",
      "Score: 1.0\n",
      "Score: 1.0\n",
      "Score: 1.0\n",
      "Score: 1.0\n",
      "Score: 1.0\n",
      "Score: 1.0\n",
      "Score: 1.0\n",
      "Score: 1.0\n",
      "Score: 1.0\n",
      "Score: 1.0\n",
      "Score: 1.0\n",
      "Score: 1.0\n",
      "Score: 1.0\n",
      "Score: 1.0\n",
      "Score: 1.0\n",
      "Score: 1.0\n",
      "Score: 1.0\n",
      "Score: 1.0\n",
      "Score: 1.0\n",
      "Score: 1.0\n",
      "Score: 1.0\n",
      "Score: 1.0\n",
      "Score: 1.0\n",
      "Score: 1.0\n",
      "Score: 1.0\n",
      "Score: 1.0\n",
      "Score: 1.0\n",
      "Score: 1.0\n",
      "Score: 1.0\n",
      "Score: 1.0\n",
      "Score: 1.0\n",
      "Score: 1.0\n",
      "Score: 1.0\n",
      "Score: 1.0\n",
      "1\n"
     ]
    }
   ],
   "metadata": {}
  },
  {
   "cell_type": "code",
   "execution_count": 35,
   "source": [
    "knn = KNeighborsClassifier(n_neighbors=k_score)\n",
    "knn.fit(train_onehot_X, train_onehot_Y)\n",
    "ans_test = knn.predict(test_onehot)"
   ],
   "outputs": [],
   "metadata": {}
  },
  {
   "cell_type": "code",
   "execution_count": 38,
   "source": [
    "ans_dict = {\n",
    "    \"PassengerId\":list(range(892, 1309+1)),\n",
    "    \"Survived\":list(ans_test)\n",
    "}"
   ],
   "outputs": [],
   "metadata": {}
  },
  {
   "cell_type": "code",
   "execution_count": 40,
   "source": [
    "pd.DataFrame(ans_dict).to_csv(PATH + \"/submission.csv\", index=False)"
   ],
   "outputs": [],
   "metadata": {}
  }
 ],
 "metadata": {
  "orig_nbformat": 4,
  "language_info": {
   "name": "python",
   "version": "3.7.11",
   "mimetype": "text/x-python",
   "codemirror_mode": {
    "name": "ipython",
    "version": 3
   },
   "pygments_lexer": "ipython3",
   "nbconvert_exporter": "python",
   "file_extension": ".py"
  },
  "kernelspec": {
   "name": "python3",
   "display_name": "Python 3.7.11 64-bit (conda)"
  },
  "interpreter": {
   "hash": "670af6274f2733d058b71ab977aeb1f87b63561b1bf88fcc5f032bfc777616da"
  }
 },
 "nbformat": 4,
 "nbformat_minor": 2
}