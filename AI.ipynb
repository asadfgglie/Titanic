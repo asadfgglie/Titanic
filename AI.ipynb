{
 "cells": [
  {
   "cell_type": "code",
   "execution_count": 2,
   "metadata": {},
   "outputs": [],
   "source": [
    "import numpy as np\n",
    "import matplotlib.pyplot as plt\n",
    "import pandas as pd"
   ]
  },
  {
   "cell_type": "code",
   "execution_count": 6,
   "metadata": {},
   "outputs": [],
   "source": [
    "PATH = \"/mnt/e/program/AI/Kaggle/Titanic\"\n",
    "df_train = pd.read_csv(PATH + \"/data/train.csv\")\n",
    "df_test = pd.read_csv(PATH + \"/data/test.csv\")"
   ]
  },
  {
   "cell_type": "code",
   "execution_count": 7,
   "metadata": {},
   "outputs": [
    {
     "name": "stdout",
     "output_type": "stream",
     "text": [
      "Train:\n",
      "Age         177\n",
      "Cabin       687\n",
      "Embarked      2\n",
      "dtype: int64\n",
      "------------------\n",
      "Test:\n",
      "Age       86\n",
      "Fare       1\n",
      "Cabin    327\n",
      "dtype: int64\n"
     ]
    }
   ],
   "source": [
    "print(\"Train:\")\n",
    "print((df_train.isna().sum())[df_train.isna().sum()>0])\n",
    "print(\"------------------\")\n",
    "print(\"Test:\")\n",
    "print((df_test.isna().sum())[df_test.isna().sum()>0])\n",
    "feature_useless = ['Name', 'Ticket']\n",
    "feature_with_NaN_list = list( dict( (df_train.isna().sum())[ df_train.isna().sum()>0 ] + (df_test.isna().sum())[ df_test.isna().sum()>0 ] ).keys() )"
   ]
  },
  {
   "cell_type": "code",
   "execution_count": 8,
   "metadata": {},
   "outputs": [],
   "source": [
    "train = df_train.drop(feature_with_NaN_list + feature_useless, axis=1)\n",
    "test = df_test.drop(feature_with_NaN_list + feature_useless, axis=1)"
   ]
  },
  {
   "cell_type": "code",
   "execution_count": 9,
   "metadata": {},
   "outputs": [],
   "source": [
    "train[train['Sex'] == 'male'] = 0\n",
    "train[train['Sex'] == 'female'] = 1\n",
    "test[test['Sex'] == 'male'] = 0\n",
    "test[test['Sex'] == 'female'] = 1"
   ]
  },
  {
   "cell_type": "code",
   "execution_count": 10,
   "metadata": {},
   "outputs": [],
   "source": [
    "from sklearn.model_selection import train_test_split\n",
    "from sklearn.neighbors import KNeighborsClassifier"
   ]
  },
  {
   "cell_type": "code",
   "execution_count": 11,
   "metadata": {},
   "outputs": [],
   "source": [
    "onehot_list = [\"Pclass\", \"Sex\"]"
   ]
  },
  {
   "cell_type": "code",
   "execution_count": 12,
   "metadata": {},
   "outputs": [],
   "source": [
    "train_onehot = pd.get_dummies(train, columns=onehot_list, prefix=onehot_list, prefix_sep='_')\n",
    "test_onehot = pd.get_dummies(test, columns=onehot_list, prefix=onehot_list, prefix_sep='_')"
   ]
  },
  {
   "cell_type": "code",
   "execution_count": 13,
   "metadata": {},
   "outputs": [],
   "source": [
    "train_onehot_X = train_onehot.drop(\"Survived\", axis=1)\n",
    "train_onehot_Y = train_onehot[\"Survived\"]"
   ]
  },
  {
   "cell_type": "code",
   "execution_count": 15,
   "metadata": {},
   "outputs": [],
   "source": [
    "X_train, X_test, Y_train, Y_test = train_test_split(train_onehot_X, train_onehot_Y, train_size=0.8, random_state=666)"
   ]
  },
  {
   "cell_type": "code",
   "execution_count": 34,
   "metadata": {},
   "outputs": [
    {
     "name": "stdout",
     "output_type": "stream",
     "text": [
      "Score: 1.0\n",
      "Score: 1.0\n",
      "Score: 1.0\n",
      "Score: 1.0\n",
      "Score: 1.0\n",
      "Score: 1.0\n",
      "Score: 1.0\n",
      "Score: 1.0\n",
      "Score: 1.0\n",
      "Score: 1.0\n",
      "Score: 1.0\n",
      "Score: 1.0\n",
      "Score: 1.0\n",
      "Score: 1.0\n",
      "Score: 1.0\n",
      "Score: 1.0\n",
      "Score: 1.0\n",
      "Score: 1.0\n",
      "Score: 1.0\n",
      "Score: 1.0\n",
      "Score: 1.0\n",
      "Score: 1.0\n",
      "Score: 1.0\n",
      "Score: 1.0\n",
      "Score: 1.0\n",
      "Score: 1.0\n",
      "Score: 1.0\n",
      "Score: 1.0\n",
      "Score: 1.0\n",
      "Score: 1.0\n",
      "Score: 1.0\n",
      "Score: 1.0\n",
      "Score: 1.0\n",
      "Score: 1.0\n",
      "Score: 1.0\n",
      "Score: 1.0\n",
      "Score: 1.0\n",
      "Score: 1.0\n",
      "Score: 1.0\n",
      "Score: 1.0\n",
      "Score: 1.0\n",
      "Score: 1.0\n",
      "Score: 1.0\n",
      "Score: 1.0\n",
      "Score: 1.0\n",
      "Score: 1.0\n",
      "Score: 1.0\n",
      "Score: 1.0\n",
      "Score: 1.0\n",
      "Score: 1.0\n",
      "Score: 1.0\n",
      "Score: 1.0\n",
      "Score: 1.0\n",
      "Score: 1.0\n",
      "Score: 1.0\n",
      "Score: 1.0\n",
      "Score: 1.0\n",
      "Score: 1.0\n",
      "Score: 1.0\n",
      "Score: 1.0\n",
      "Score: 1.0\n",
      "Score: 1.0\n",
      "Score: 1.0\n",
      "Score: 1.0\n",
      "Score: 1.0\n",
      "Score: 1.0\n",
      "Score: 1.0\n",
      "Score: 1.0\n",
      "Score: 1.0\n",
      "Score: 1.0\n",
      "Score: 1.0\n",
      "Score: 1.0\n",
      "Score: 1.0\n",
      "Score: 1.0\n",
      "Score: 1.0\n",
      "Score: 1.0\n",
      "Score: 1.0\n",
      "Score: 1.0\n",
      "Score: 1.0\n",
      "Score: 1.0\n",
      "Score: 1.0\n",
      "Score: 1.0\n",
      "Score: 1.0\n",
      "Score: 1.0\n",
      "Score: 1.0\n",
      "Score: 1.0\n",
      "Score: 1.0\n",
      "Score: 1.0\n",
      "Score: 1.0\n",
      "Score: 1.0\n",
      "Score: 1.0\n",
      "Score: 1.0\n",
      "Score: 1.0\n",
      "Score: 1.0\n",
      "Score: 1.0\n",
      "Score: 1.0\n",
      "Score: 1.0\n",
      "Score: 1.0\n",
      "Score: 1.0\n",
      "1\n"
     ]
    }
   ],
   "source": [
    "from sklearn.metrics import accuracy_score\n",
    "k_scores = []\n",
    "for k in range(1, 100):\n",
    "    knn = KNeighborsClassifier(n_neighbors=k)\n",
    "    knn.fit(X_train, Y_train)\n",
    "    prediction = knn.predict(X_test)\n",
    "    prediction_score = accuracy_score(Y_test, prediction)\n",
    "    k_scores.append(prediction_score)\n",
    "    print(f\"Score: {prediction_score}\")\n",
    "print(k_scores.index(np.array(k_scores).max()) + 1)\n",
    "k_score = k_scores.index(np.array(k_scores).max()) + 1"
   ]
  },
  {
   "cell_type": "code",
   "execution_count": 35,
   "metadata": {},
   "outputs": [],
   "source": [
    "knn = KNeighborsClassifier(n_neighbors=k_score)\n",
    "knn.fit(train_onehot_X, train_onehot_Y)\n",
    "ans_test = knn.predict(test_onehot)"
   ]
  },
  {
   "cell_type": "code",
   "execution_count": 38,
   "metadata": {},
   "outputs": [],
   "source": [
    "ans_dict = {\n",
    "    \"PassengerId\":list(range(892, 1309+1)),\n",
    "    \"Survived\":list(ans_test)\n",
    "}"
   ]
  },
  {
   "cell_type": "code",
   "execution_count": 40,
   "metadata": {},
   "outputs": [],
   "source": [
    "pd.DataFrame(ans_dict).to_csv(PATH + \"/submission.csv\", index=False)"
   ]
  }
 ],
 "metadata": {
  "kernelspec": {
   "display_name": "Python 3.8.8 ('base')",
   "language": "python",
   "name": "python3"
  },
  "language_info": {
   "codemirror_mode": {
    "name": "ipython",
    "version": 3
   },
   "file_extension": ".py",
   "mimetype": "text/x-python",
   "name": "python",
   "nbconvert_exporter": "python",
   "pygments_lexer": "ipython3",
   "version": "3.8.8"
  },
  "orig_nbformat": 4,
  "vscode": {
   "interpreter": {
    "hash": "ad2bdc8ecc057115af97d19610ffacc2b4e99fae6737bb82f5d7fb13d2f2c186"
   }
  }
 },
 "nbformat": 4,
 "nbformat_minor": 2
}
