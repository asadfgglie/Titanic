{
 "cells": [
  {
   "cell_type": "code",
   "execution_count": 1,
   "source": [
    "import numpy as np\n",
    "import matplotlib.pyplot as plt\n",
    "import pandas as pd"
   ],
   "outputs": [],
   "metadata": {}
  },
  {
   "cell_type": "code",
   "execution_count": 2,
   "source": [
    "PATH = \"/mnt/e/program/AI/Kaggle/Titanic\"\n",
    "df_train = pd.read_csv(PATH + \"/data/train.csv\")\n",
    "df_test = pd.read_csv(PATH + \"/data/test.csv\")"
   ],
   "outputs": [],
   "metadata": {}
  }
 ],
 "metadata": {
  "orig_nbformat": 4,
  "language_info": {
   "name": "python",
   "version": "3.7.11",
   "mimetype": "text/x-python",
   "codemirror_mode": {
    "name": "ipython",
    "version": 3
   },
   "pygments_lexer": "ipython3",
   "nbconvert_exporter": "python",
   "file_extension": ".py"
  },
  "kernelspec": {
   "name": "python3",
   "display_name": "Python 3.7.11 64-bit (conda)"
  },
  "interpreter": {
   "hash": "42707514ba8ec6cbcde33bc38c0c0e867beb4472defa50aa0de6f593ec6e1533"
  }
 },
 "nbformat": 4,
 "nbformat_minor": 2
}